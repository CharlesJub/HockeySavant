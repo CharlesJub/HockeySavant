{
 "cells": [
  {
   "cell_type": "code",
   "execution_count": 1,
   "metadata": {},
   "outputs": [],
   "source": [
    "import pandas as pd\n",
    "import creds\n",
    "from sqlalchemy import create_engine, text as sa_text\n",
    "from scipy import stats\n",
    "import requests"
   ]
  },
  {
   "cell_type": "code",
   "execution_count": 2,
   "metadata": {},
   "outputs": [],
   "source": [
    "# Construct the connection string using your credentials\n",
    "con_string = f\"postgresql+psycopg2://{creds.DB_USER}:{creds.DB_PASS}@{creds.DB_HOST}/{creds.DB_NAME}\"\n",
    "\n",
    "# Create a database engine and connect to the database\n",
    "engine = create_engine(con_string)\n",
    "conn = engine.connect()\n",
    "\n",
    "xg_df = pd.read_sql_query(sa_text('SELECT * FROM expect_goals'), con=conn)\n",
    "pbp_df = pd.read_sql_query(sa_text('SELECT * FROM play_by_play'), con=conn)\n",
    "\n",
    "conn.commit()\n",
    "conn.close()"
   ]
  },
  {
   "cell_type": "code",
   "execution_count": 3,
   "metadata": {},
   "outputs": [],
   "source": [
    "pbp_xg_df = pd.merge(left=pbp_df, right=xg_df, on=['gameId','playId'], how='inner')"
   ]
  },
  {
   "cell_type": "code",
   "execution_count": 4,
   "metadata": {},
   "outputs": [],
   "source": [
    "engine = create_engine(con_string)\n",
    "conn = engine.connect()\n",
    "\n",
    "player_stats_db = pd.read_sql_query(sa_text('SELECT * FROM skater_stats'), con=conn)\n",
    "\n",
    "\n",
    "conn.commit()\n",
    "conn.close()"
   ]
  },
  {
   "cell_type": "code",
   "execution_count": 43,
   "metadata": {},
   "outputs": [],
   "source": [
    "gf_dict = {}\n",
    "home_cols = [f'home{i}' for i in range(1, 7)]\n",
    "away_cols = [f'away{i}' for i in range(1, 7)]\n",
    "player_cols = home_cols + away_cols + [\"eventPlayer1\"]\n",
    "player_ids = player_stats_db.id.unique()\n",
    "pbp_xg_df[\"eventPlayer1\"] = pbp_xg_df[\"eventPlayer1\"].astype('object')\n",
    "\n",
    "for player_id in player_ids:\n",
    "    player_scope = pbp_xg_df[pbp_xg_df[player_cols].eq(str(player_id)).any(axis=1)]\n",
    "    seasons = player_scope['season'].unique()\n",
    "    for season in seasons:\n",
    "        xg_dict = {}\n",
    "        season_scope = player_scope[player_scope['season'] == season]\n",
    "        for strength in ['EV', 'PP', 'SH']:\n",
    "            strength_scope = season_scope[season_scope['strength'] == strength]\n",
    "            xg_dict[f'{strength}_ixG'] = strength_scope[strength_scope['eventPlayer1'].eq(player_id)]['xG'].sum()\n",
    "            home_on_ice_filter = (strength_scope[home_cols].eq(str(player_id)).any(axis=1))\n",
    "            away_on_ice_filter = (strength_scope[away_cols].eq(str(player_id)).any(axis=1))\n",
    "            \n",
    "            xg_dict[f'{strength}_xGF'] = strength_scope.loc[(home_on_ice_filter & (season_scope['homeTeam'] == season_scope['eventTeam'])) | (away_on_ice_filter & (season_scope['awayTeam'] == season_scope['eventTeam'])), 'xG'].sum()\n",
    "            xg_dict[f'{strength}_xGA'] = strength_scope.loc[(home_on_ice_filter & (season_scope['homeTeam'] != season_scope['eventTeam'])) | (away_on_ice_filter & (season_scope['awayTeam'] != season_scope['eventTeam'])), 'xG'].sum()\n",
    "\n",
    "        gf_dict[(player_id, season)] = xg_dict\n",
    "\n",
    "\n"
   ]
  },
  {
   "cell_type": "code",
   "execution_count": 81,
   "metadata": {},
   "outputs": [],
   "source": [
    "df = pd.DataFrame(gf_dict).transpose().reset_index().rename({'level_0':'id','level_1':'season'}, axis='columns')"
   ]
  },
  {
   "cell_type": "code",
   "execution_count": 82,
   "metadata": {},
   "outputs": [
    {
     "data": {
      "text/plain": [
       "Index(['id', 'season', 'games', 'goals', 'assists', 'points', 'shots',\n",
       "       'shotPct', 'pim', 'timeOnIce', 'evenTimeOnIce', 'powerPlayTimeOnIce',\n",
       "       'shortHandedTimeOnIce', 'timeOnIcePerGame', 'evenTimeOnIcePerGame',\n",
       "       'powerPlayTimeOnIcePerGame', 'shortHandedTimeOnIcePerGame'],\n",
       "      dtype='object')"
      ]
     },
     "execution_count": 82,
     "metadata": {},
     "output_type": "execute_result"
    }
   ],
   "source": [
    "player_stats_db.columns"
   ]
  },
  {
   "cell_type": "code",
   "execution_count": 83,
   "metadata": {},
   "outputs": [],
   "source": [
    "player_stats_db['id'] = player_stats_db['id'].astype('string')\n",
    "player_stats_db['season'] = player_stats_db['season'].astype('string')\n",
    "df['id'] = df['id'].astype('string')\n",
    "df['season'] = df['season'].astype('string')\n",
    "\n",
    "toi_df = player_stats_db[['id', 'season', 'timeOnIce','evenTimeOnIce', 'powerPlayTimeOnIce', 'shortHandedTimeOnIce', 'pim', 'goals','shotPct']]\n",
    "toi_xg_df = df.merge(toi_df, on=['id','season'])"
   ]
  },
  {
   "cell_type": "code",
   "execution_count": 84,
   "metadata": {},
   "outputs": [],
   "source": [
    "toi_xg_df['ALL_ixG'] = toi_xg_df['EV_ixG'] + toi_xg_df['PP_ixG'] + toi_xg_df['SH_ixG']\n",
    "toi_xg_df['ALL_xGF'] = toi_xg_df['EV_xGF'] + toi_xg_df['PP_xGF'] + toi_xg_df['SH_xGF']\n",
    "toi_xg_df['ALL_xGA'] = toi_xg_df['EV_xGA'] + toi_xg_df['PP_xGA'] + toi_xg_df['SH_xGA']\n",
    "toi_xg_df['goals_above_expected'] = toi_xg_df['goals'] - toi_xg_df['ALL_ixG']"
   ]
  },
  {
   "cell_type": "code",
   "execution_count": 87,
   "metadata": {},
   "outputs": [],
   "source": [
    "def time_to_minutes(time_str):\n",
    "    try:\n",
    "        minutes, seconds = map(int, time_str.split(':'))\n",
    "        total_minutes = minutes + seconds / 60\n",
    "        return total_minutes\n",
    "    except ValueError:\n",
    "        print(\"Invalid time format. Please use 'MM:SS' format.\")\n",
    "        return None\n",
    "\n",
    "toi_xg_df[['timeOnIceMin', 'evenTimeOnIceMin','powerPlayTimeOnIceMin','shortHandedTimeOnIceMin']] = toi_xg_df[['timeOnIce','evenTimeOnIce','powerPlayTimeOnIce','shortHandedTimeOnIce']].applymap(lambda x: round(time_to_minutes(x), 2))"
   ]
  },
  {
   "cell_type": "code",
   "execution_count": 178,
   "metadata": {},
   "outputs": [],
   "source": [
    "conn = engine.connect()\n",
    "toi_xg_df.to_sql('advanced_stats_raw',if_exists='replace', con=conn)\n",
    "conn.close()"
   ]
  },
  {
   "attachments": {},
   "cell_type": "markdown",
   "metadata": {},
   "source": [
    "### Skater Stat List:\n",
    "Deployment\n",
    "- TOI all types x EV, PP, SH\n",
    "\n",
    "Offence\n",
    " - ixG x\n",
    " - xGF x\n",
    " - EV xGF x\n",
    " - PP XGF x\n",
    " - Goals  x\n",
    " - Goals - ixG x\n",
    " \n",
    "Defence\n",
    " - xGA x \n",
    " - EV xGA x\n",
    " - SH XGA x\n",
    " - EV GA\n",
    " \n",
    "Misc\n",
    " - Penalties Taken x\n",
    " - Penalties Drawn x\n",
    " - Faceoff differential x\n",
    " \n",
    "\n",
    "\n",
    " \n",
    " \n",
    " \n"
   ]
  },
  {
   "cell_type": "code",
   "execution_count": 151,
   "metadata": {},
   "outputs": [],
   "source": [
    "conn = engine.connect()\n",
    "toi_xg_df = pd.read_sql('advanced_stats_raw', con=conn)\n",
    "conn.close()"
   ]
  },
  {
   "cell_type": "code",
   "execution_count": 152,
   "metadata": {},
   "outputs": [],
   "source": [
    "faceoff_url = f'https://api.nhle.com/stats/rest/en/skater/faceoffwins?isAggregate=false&isGame=false&sort=%5B%7B%22property%22:%22totalFaceoffWins%22,%22direction%22:%22DESC%22%7D,%7B%22property%22:%22playerId%22,%22direction%22:%22ASC%22%7D%5D&start=0&limit=100&factCayenneExp=gamesPlayed%3E=1&cayenneExp=gameTypeId=2%20and%20seasonId%3C=20222023%20and%20seasonId%3E=20182019'\n",
    "faceoff_dict = {}\n",
    "resp = requests.get(faceoff_url)\n",
    "resp.raise_for_status()\n",
    "json_data = resp.json()\n",
    "total_events = json_data['total']\n",
    "\n",
    "for start_index in range(0,total_events+1,50):\n",
    "    faceoff_url = f'https://api.nhle.com/stats/rest/en/skater/faceoffwins?isAggregate=false&isGame=false&sort=%5B%7B%22property%22:%22totalFaceoffWins%22,%22direction%22:%22DESC%22%7D,%7B%22property%22:%22faceoffWinPct%22,%22direction%22:%22DESC%22%7D,%7B%22property%22:%22playerId%22,%22direction%22:%22ASC%22%7D%5D&start={start_index}&limit=100&factCayenneExp=gamesPlayed%3E=0&cayenneExp=gameTypeId=2%20and%20seasonId%3C=20222023%20and%20seasonId%3E=20182019'\n",
    "    try:\n",
    "        resp = requests.get(faceoff_url)\n",
    "        resp.raise_for_status()\n",
    "        json_data = resp.json()\n",
    "    except requests.exceptions.HTTPError as e:\n",
    "        print(f\"HTTP error occurred: {e}\")\n",
    "    except Exception as e:\n",
    "        print(f\"An unexpected error occurred: {e}\")\n",
    "\n",
    "    for player in json_data['data']:\n",
    "        player_id = str(player['playerId'])\n",
    "        season = str(player['seasonId'])\n",
    "        faceoffDifferential  = player['totalFaceoffWins'] - player['totalFaceoffLosses']\n",
    "        faceoffTotal = player['totalFaceoffs']\n",
    "        faceoff_dict[(player_id, season)] = [faceoffDifferential,faceoffTotal]\n",
    "\n",
    "toi_xg_df['faceoff_differential'] = toi_xg_df.apply(lambda row: faceoff_dict[(row['id'], row['season'])][0], axis=1)\n",
    "toi_xg_df['faceoff_total'] = toi_xg_df.apply(lambda row: faceoff_dict[(row['id'], row['season'])][1], axis=1)"
   ]
  },
  {
   "cell_type": "code",
   "execution_count": 153,
   "metadata": {},
   "outputs": [],
   "source": [
    "penalties_url = f'https://api.nhle.com/stats/rest/en/skater/penalties?isAggregate=false&isGame=false&sort=%5B%7B%22property%22:%22lastName%22,%22direction%22:%22ASC_CI%22%7D,%7B%22property%22:%22skaterFullName%22,%22direction%22:%22ASC_CI%22%7D,%7B%22property%22:%22playerId%22,%22direction%22:%22ASC%22%7D%5D&start=0&limit=100&factCayenneExp=gamesPlayed%3E=1&cayenneExp=gameTypeId=2%20and%20seasonId%3C=20222023%20and%20seasonId%3E=20182019'\n",
    "penalties_dict = {}\n",
    "resp = requests.get(penalties_url)\n",
    "resp.raise_for_status()\n",
    "json_data = resp.json()\n",
    "total_events = json_data['total']\n",
    "\n",
    "for start_index in range(0,total_events+1,50):\n",
    "    penalties_url = f'https://api.nhle.com/stats/rest/en/skater/penalties?isAggregate=false&isGame=false&sort=%5B%7B%22property%22:%22lastName%22,%22direction%22:%22ASC_CI%22%7D,%7B%22property%22:%22skaterFullName%22,%22direction%22:%22ASC_CI%22%7D,%7B%22property%22:%22playerId%22,%22direction%22:%22ASC%22%7D%5D&start={start_index}&limit=100&factCayenneExp=gamesPlayed%3E=1&cayenneExp=gameTypeId=2%20and%20seasonId%3C=20222023%20and%20seasonId%3E=20182019'\n",
    "    try:\n",
    "        resp = requests.get(penalties_url)\n",
    "        resp.raise_for_status()\n",
    "        json_data = resp.json()\n",
    "    except requests.exceptions.HTTPError as e:\n",
    "        print(f\"HTTP error occurred: {e}\")\n",
    "    except Exception as e:\n",
    "        print(f\"An unexpected error occurred: {e}\")\n",
    "\n",
    "    for player in json_data['data']:\n",
    "        player_id = str(player['playerId'])\n",
    "        season = str(player['seasonId'])\n",
    "        penaliesTaken  = player['penalties']\n",
    "        penaliesDrawn = player['penaltiesDrawn']\n",
    "        penalties_dict[(player_id, season)] = [penaliesTaken,penaliesDrawn]\n",
    "\n",
    "toi_xg_df['penalties_taken'] = toi_xg_df.apply(lambda row: penalties_dict[(row['id'], row['season'])][0], axis=1)\n",
    "toi_xg_df['penalties_drawn'] = toi_xg_df.apply(lambda row: penalties_dict[(row['id'], row['season'])][1], axis=1)"
   ]
  },
  {
   "cell_type": "code",
   "execution_count": 154,
   "metadata": {},
   "outputs": [],
   "source": [
    "goals_against_url = f'https://api.nhle.com/stats/rest/en/skater/goalsForAgainst?isAggregate=false&isGame=false&sort=%5B%7B%22property%22:%22seasonId%22,%22direction%22:%22DESC%22%7D,%7B%22property%22:%22playerId%22,%22direction%22:%22ASC%22%7D%5D&start=0&limit=100&factCayenneExp=gamesPlayed%3E=1&cayenneExp=gameTypeId=2%20and%20seasonId%3C=20222023%20and%20seasonId%3E=20182019'\n",
    "goals_against_dict = {}\n",
    "resp = requests.get(penalties_url)\n",
    "resp.raise_for_status()\n",
    "json_data = resp.json()\n",
    "total_events = json_data['total']\n",
    "\n",
    "for start_index in range(0,total_events+1,50):\n",
    "    goals_against_url = f'https://api.nhle.com/stats/rest/en/skater/goalsForAgainst?isAggregate=false&isGame=false&sort=%5B%7B%22property%22:%22seasonId%22,%22direction%22:%22DESC%22%7D,%7B%22property%22:%22playerId%22,%22direction%22:%22ASC%22%7D%5D&start={start_index}&limit=100&factCayenneExp=gamesPlayed%3E=1&cayenneExp=gameTypeId=2%20and%20seasonId%3C=20222023%20and%20seasonId%3E=20182019'\n",
    "    try:\n",
    "        resp = requests.get(goals_against_url)\n",
    "        resp.raise_for_status()\n",
    "        json_data = resp.json()\n",
    "    except requests.exceptions.HTTPError as e:\n",
    "        print(f\"HTTP error occurred: {e}\")\n",
    "    except Exception as e:\n",
    "        print(f\"An unexpected error occurred: {e}\")\n",
    "\n",
    "    for player in json_data['data']:\n",
    "        player_id = str(player['playerId'])\n",
    "        season = str(player['seasonId'])\n",
    "        evenStrengthGoalsAgainst  = player['evenStrengthGoalsAgainst']\n",
    "        goals_against_dict[(player_id, season)] = [evenStrengthGoalsAgainst]\n",
    "\n",
    "toi_xg_df['ev_goals_against'] = toi_xg_df.apply(lambda row: goals_against_dict[(row['id'], row['season'])][0], axis=1)\n"
   ]
  },
  {
   "cell_type": "code",
   "execution_count": 157,
   "metadata": {},
   "outputs": [],
   "source": [
    "# Define column prefixes and corresponding time columns\n",
    "columns = [\n",
    "    ('EV', 'evenTimeOnIceMin'),\n",
    "    ('PP', 'powerPlayTimeOnIceMin'),\n",
    "    ('SH', 'shortHandedTimeOnIceMin'),\n",
    "    ('ALL', 'timeOnIceMin')\n",
    "]\n",
    "# Iterate through column prefixes and time columns to calculate rates and percentiles\n",
    "for prefix, time_column in columns:\n",
    "    toi_xg_df[f'{prefix}_ixG_rates'] = toi_xg_df.apply(lambda row: row[f'{prefix}_ixG'] / row[time_column] if row[time_column] != 0 else 0.0, axis=1)\n",
    "    toi_xg_df[f'{prefix}_xGF_rates'] = toi_xg_df.apply(lambda row: row[f'{prefix}_xGF'] / row[time_column] if row[time_column] != 0 else 0.0, axis=1)\n",
    "    toi_xg_df[f'{prefix}_xGA_rates'] = toi_xg_df.apply(lambda row: row[f'{prefix}_xGA'] / row[time_column] if row[time_column] != 0 else 0.0, axis=1)\n",
    "\n",
    "toi_xg_df[f'penalties_taken_rates'] = toi_xg_df.apply(lambda row: row[f'penalties_taken'] / row['timeOnIceMin'] if row['timeOnIceMin'] != 0 else 0.0, axis=1)\n",
    "toi_xg_df[f'penalties_drawn_rates'] = toi_xg_df.apply(lambda row: row[f'penalties_drawn'] / row['timeOnIceMin'] if row['timeOnIceMin'] != 0 else 0.0, axis=1)\n",
    "toi_xg_df[f'goal_rates'] = toi_xg_df.apply(lambda row: row[f'goals'] / row['timeOnIceMin'] if row['timeOnIceMin'] != 0 else 0.0, axis=1)\n",
    "\n",
    "toi_xg_df[f'ev_goals_against_rate'] = toi_xg_df.apply(lambda row: row[f'ev_goals_against'] / row['evenTimeOnIceMin'] if row['evenTimeOnIceMin'] != 0 else 0.0, axis=1)\n",
    "\n",
    "# Calculate season-wise percentiles\n",
    "toi_xg_df['faceoff_differential_percentile'] = toi_xg_df.apply(lambda row: stats.percentileofscore(toi_xg_df.loc[(toi_xg_df['faceoff_total'] > 50) & (toi_xg_df['season'] == row['season']), 'faceoff_differential'], row['faceoff_differential'], kind='rank'), axis=1)\n",
    "toi_xg_df['goals_above_expected_percentile'] = toi_xg_df.apply(lambda row: stats.percentileofscore(toi_xg_df.loc[(toi_xg_df['timeOnIceMin'] > 240) & (toi_xg_df['season'] == row['season']), 'goals_above_expected'], row['goals_above_expected'], kind='rank'), axis=1)\n",
    "# toi_xg_df['pim_percentile'] = toi_xg_df.apply(lambda row: stats.percentileofscore(-toi_xg_df.loc[(toi_xg_df['timeOnIceMin'] > 400) & (toi_xg_df['season'] == row['season']), 'pim'], -row['pim'], kind='rank'), axis=1)\n",
    "toi_xg_df['penalties_taken_percentile'] = toi_xg_df.apply(lambda row: stats.percentileofscore(-toi_xg_df.loc[(toi_xg_df['timeOnIceMin'] > 500) & (toi_xg_df['season'] == row['season']), 'penalties_taken_rates'], -row['penalties_taken_rates'], kind='rank'), axis=1)\n",
    "toi_xg_df['penalties_drawn_percentile'] = toi_xg_df.apply(lambda row: stats.percentileofscore(toi_xg_df.loc[(toi_xg_df['timeOnIceMin'] > 240) & (toi_xg_df['season'] == row['season']), 'penalties_drawn_rates'], row['penalties_drawn_rates'], kind='rank'), axis=1)\n",
    "toi_xg_df['goal_percentile'] = toi_xg_df.apply(lambda row: stats.percentileofscore(toi_xg_df.loc[(toi_xg_df['timeOnIceMin'] > 240) & (toi_xg_df['season'] == row['season']), 'goal_rates'], row['goal_rates'], kind='rank'), axis=1)\n",
    "\n",
    "toi_xg_df['ev_goals_against_percentile'] = toi_xg_df.apply(lambda row: stats.percentileofscore(-toi_xg_df.loc[(toi_xg_df['evenTimeOnIceMin'] > 400) & (toi_xg_df['season'] == row['season']), 'ev_goals_against_rate'], -row['ev_goals_against_rate'], kind='rank'), axis=1)\n",
    "\n",
    "\n",
    "\n",
    "for prefix, time_column in columns:\n",
    "        toi_xg_df[f'{prefix}_TOI_percentile'] = toi_xg_df.apply(lambda row: stats.percentileofscore(toi_xg_df.loc[(toi_xg_df['timeOnIceMin'] > 240) & (toi_xg_df['season'] == row['season']), time_column], row[time_column], kind='rank'), axis=1)\n",
    "        toi_xg_df[f'{prefix}_ixG_percentile'] = toi_xg_df.apply(lambda row: stats.percentileofscore(toi_xg_df.loc[(toi_xg_df['timeOnIceMin'] > 240) & (toi_xg_df['season'] == row['season']), f'{prefix}_ixG_rates'], row[f'{prefix}_ixG_rates'], kind='rank'), axis=1)\n",
    "        toi_xg_df[f'{prefix}_xGF_percentile'] = toi_xg_df.apply(lambda row: stats.percentileofscore(toi_xg_df.loc[(toi_xg_df['timeOnIceMin'] > 240) & (toi_xg_df['season'] == row['season']), f'{prefix}_xGF_rates'], row[f'{prefix}_xGF_rates'], kind='rank'), axis=1)\n",
    "        toi_xg_df[f'{prefix}_xGA_percentile'] = toi_xg_df.apply(lambda row: stats.percentileofscore(-toi_xg_df.loc[(toi_xg_df['timeOnIceMin'] > 240) & (toi_xg_df['season'] == row['season']), f'{prefix}_xGA_rates'], -row[f'{prefix}_xGA_rates'], kind='rank'), axis=1)\n"
   ]
  },
  {
   "cell_type": "code",
   "execution_count": 165,
   "metadata": {},
   "outputs": [],
   "source": [
    "conn = engine.connect()\n",
    "toi_xg_df.to_sql('percentiles',if_exists='replace', con=conn, index=False)\n",
    "conn.close()"
   ]
  },
  {
   "cell_type": "code",
   "execution_count": null,
   "metadata": {},
   "outputs": [],
   "source": []
  },
  {
   "cell_type": "markdown",
   "metadata": {},
   "source": [
    "# Goalie Percentiles"
   ]
  },
  {
   "cell_type": "markdown",
   "metadata": {},
   "source": [
    "### List\n",
    "- High Danger Sv%\n",
    "- Med Danger Sv%\n",
    "- Low Danger Sv%\n",
    "- SH Sv%\n",
    "- EV Sv%\n",
    "- GAA\n",
    "- TOI\n",
    "- xG Against \n",
    "- GSAx\n",
    "- Rebounds"
   ]
  },
  {
   "cell_type": "markdown",
   "metadata": {},
   "source": []
  }
 ],
 "metadata": {
  "kernelspec": {
   "display_name": "env",
   "language": "python",
   "name": "python3"
  },
  "language_info": {
   "codemirror_mode": {
    "name": "ipython",
    "version": 3
   },
   "file_extension": ".py",
   "mimetype": "text/x-python",
   "name": "python",
   "nbconvert_exporter": "python",
   "pygments_lexer": "ipython3",
   "version": "3.10.11"
  },
  "orig_nbformat": 4,
  "vscode": {
   "interpreter": {
    "hash": "5681a5ff8fa8524066465b51ed71974b9a9d17fac236181ec822a345559c4021"
   }
  }
 },
 "nbformat": 4,
 "nbformat_minor": 2
}
