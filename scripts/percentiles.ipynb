{
 "cells": [
  {
   "cell_type": "code",
   "execution_count": 1,
   "metadata": {},
   "outputs": [],
   "source": [
    "import pandas as pd\n",
    "import creds\n",
    "from sqlalchemy import create_engine, text as sa_text\n",
    "from scipy import stats\n",
    "import requests"
   ]
  },
  {
   "cell_type": "code",
   "execution_count": 2,
   "metadata": {},
   "outputs": [],
   "source": [
    "# Construct the connection string using your credentials\n",
    "con_string = f\"postgresql+psycopg2://{creds.DB_USER}:{creds.DB_PASS}@{creds.DB_HOST}/{creds.DB_NAME}\"\n",
    "\n",
    "# Create a database engine and connect to the database\n",
    "engine = create_engine(con_string)\n",
    "conn = engine.connect()\n",
    "\n",
    "xg_df = pd.read_sql_query(sa_text('SELECT * FROM expect_goals'), con=conn)\n",
    "pbp_df = pd.read_sql_query(sa_text('SELECT * FROM play_by_play'), con=conn)\n",
    "\n",
    "conn.commit()\n",
    "conn.close()"
   ]
  },
  {
   "cell_type": "code",
   "execution_count": 3,
   "metadata": {},
   "outputs": [],
   "source": [
    "pbp_xg_df = pd.merge(left=pbp_df, right=xg_df, on=['gameId','playId'], how='inner')"
   ]
  },
  {
   "cell_type": "code",
   "execution_count": 4,
   "metadata": {},
   "outputs": [],
   "source": [
    "engine = create_engine(con_string)\n",
    "conn = engine.connect()\n",
    "\n",
    "player_stats_db = pd.read_sql_query(sa_text('SELECT * FROM skater_stats'), con=conn)\n",
    "\n",
    "\n",
    "conn.commit()\n",
    "conn.close()"
   ]
  },
  {
   "cell_type": "code",
   "execution_count": 43,
   "metadata": {},
   "outputs": [],
   "source": [
    "gf_dict = {}\n",
    "home_cols = [f'home{i}' for i in range(1, 7)]\n",
    "away_cols = [f'away{i}' for i in range(1, 7)]\n",
    "player_cols = home_cols + away_cols + [\"eventPlayer1\"]\n",
    "player_ids = player_stats_db.id.unique()\n",
    "pbp_xg_df[\"eventPlayer1\"] = pbp_xg_df[\"eventPlayer1\"].astype('object')\n",
    "\n",
    "for player_id in player_ids:\n",
    "    player_scope = pbp_xg_df[pbp_xg_df[player_cols].eq(str(player_id)).any(axis=1)]\n",
    "    seasons = player_scope['season'].unique()\n",
    "    for season in seasons:\n",
    "        xg_dict = {}\n",
    "        season_scope = player_scope[player_scope['season'] == season]\n",
    "        for strength in ['EV', 'PP', 'SH']:\n",
    "            strength_scope = season_scope[season_scope['strength'] == strength]\n",
    "            xg_dict[f'{strength}_ixG'] = strength_scope[strength_scope['eventPlayer1'].eq(player_id)]['xG'].sum()\n",
    "            home_on_ice_filter = (strength_scope[home_cols].eq(str(player_id)).any(axis=1))\n",
    "            away_on_ice_filter = (strength_scope[away_cols].eq(str(player_id)).any(axis=1))\n",
    "            \n",
    "            xg_dict[f'{strength}_xGF'] = strength_scope.loc[(home_on_ice_filter & (season_scope['homeTeam'] == season_scope['eventTeam'])) | (away_on_ice_filter & (season_scope['awayTeam'] == season_scope['eventTeam'])), 'xG'].sum()\n",
    "            xg_dict[f'{strength}_xGA'] = strength_scope.loc[(home_on_ice_filter & (season_scope['homeTeam'] != season_scope['eventTeam'])) | (away_on_ice_filter & (season_scope['awayTeam'] != season_scope['eventTeam'])), 'xG'].sum()\n",
    "\n",
    "        gf_dict[(player_id, season)] = xg_dict\n",
    "\n",
    "\n"
   ]
  },
  {
   "cell_type": "code",
   "execution_count": 81,
   "metadata": {},
   "outputs": [],
   "source": [
    "df = pd.DataFrame(gf_dict).transpose().reset_index().rename({'level_0':'id','level_1':'season'}, axis='columns')"
   ]
  },
  {
   "cell_type": "code",
   "execution_count": 82,
   "metadata": {},
   "outputs": [
    {
     "data": {
      "text/plain": [
       "Index(['id', 'season', 'games', 'goals', 'assists', 'points', 'shots',\n",
       "       'shotPct', 'pim', 'timeOnIce', 'evenTimeOnIce', 'powerPlayTimeOnIce',\n",
       "       'shortHandedTimeOnIce', 'timeOnIcePerGame', 'evenTimeOnIcePerGame',\n",
       "       'powerPlayTimeOnIcePerGame', 'shortHandedTimeOnIcePerGame'],\n",
       "      dtype='object')"
      ]
     },
     "execution_count": 82,
     "metadata": {},
     "output_type": "execute_result"
    }
   ],
   "source": [
    "player_stats_db.columns"
   ]
  },
  {
   "cell_type": "code",
   "execution_count": 83,
   "metadata": {},
   "outputs": [],
   "source": [
    "player_stats_db['id'] = player_stats_db['id'].astype('string')\n",
    "player_stats_db['season'] = player_stats_db['season'].astype('string')\n",
    "df['id'] = df['id'].astype('string')\n",
    "df['season'] = df['season'].astype('string')\n",
    "\n",
    "toi_df = player_stats_db[['id', 'season', 'timeOnIce','evenTimeOnIce', 'powerPlayTimeOnIce', 'shortHandedTimeOnIce', 'pim', 'goals','shotPct']]\n",
    "toi_xg_df = df.merge(toi_df, on=['id','season'])"
   ]
  },
  {
   "cell_type": "code",
   "execution_count": 84,
   "metadata": {},
   "outputs": [],
   "source": [
    "toi_xg_df['ALL_ixG'] = toi_xg_df['EV_ixG'] + toi_xg_df['PP_ixG'] + toi_xg_df['SH_ixG']\n",
    "toi_xg_df['ALL_xGF'] = toi_xg_df['EV_xGF'] + toi_xg_df['PP_xGF'] + toi_xg_df['SH_xGF']\n",
    "toi_xg_df['ALL_xGA'] = toi_xg_df['EV_xGA'] + toi_xg_df['PP_xGA'] + toi_xg_df['SH_xGA']\n",
    "toi_xg_df['goals_above_expected'] = toi_xg_df['goals'] - toi_xg_df['ALL_ixG']"
   ]
  },
  {
   "cell_type": "code",
   "execution_count": 87,
   "metadata": {},
   "outputs": [],
   "source": [
    "def time_to_minutes(time_str):\n",
    "    try:\n",
    "        minutes, seconds = map(int, time_str.split(':'))\n",
    "        total_minutes = minutes + seconds / 60\n",
    "        return total_minutes\n",
    "    except ValueError:\n",
    "        print(\"Invalid time format. Please use 'MM:SS' format.\")\n",
    "        return None\n",
    "\n",
    "toi_xg_df[['timeOnIceMin', 'evenTimeOnIceMin','powerPlayTimeOnIceMin','shortHandedTimeOnIceMin']] = toi_xg_df[['timeOnIce','evenTimeOnIce','powerPlayTimeOnIce','shortHandedTimeOnIce']].applymap(lambda x: round(time_to_minutes(x), 2))"
   ]
  },
  {
   "cell_type": "code",
   "execution_count": 178,
   "metadata": {},
   "outputs": [],
   "source": [
    "conn = engine.connect()\n",
    "toi_xg_df.to_sql('advanced_stats_raw',if_exists='replace', con=conn)\n",
    "conn.close()"
   ]
  },
  {
   "attachments": {},
   "cell_type": "markdown",
   "metadata": {},
   "source": [
    "### Skater Stat List:\n",
    "Deployment\n",
    "- TOI all types x EV, PP, SH\n",
    "\n",
    "Offence\n",
    " - ixG x\n",
    " - xGF x\n",
    " - EV xGF x\n",
    " - PP XGF x\n",
    " - Goals  x\n",
    " - Goals - ixG x\n",
    " \n",
    "Defence\n",
    " - xGA x \n",
    " - EV xGA x\n",
    " - SH XGA x\n",
    " - EV GA\n",
    " \n",
    "Misc\n",
    " - Penalties Taken x\n",
    " - Penalties Drawn x\n",
    " - Faceoff differential x\n",
    " \n",
    "\n",
    "\n",
    " \n",
    " \n",
    " \n"
   ]
  },
  {
   "cell_type": "code",
   "execution_count": 151,
   "metadata": {},
   "outputs": [],
   "source": [
    "conn = engine.connect()\n",
    "toi_xg_df = pd.read_sql('advanced_stats_raw', con=conn)\n",
    "conn.close()"
   ]
  },
  {
   "cell_type": "code",
   "execution_count": 152,
   "metadata": {},
   "outputs": [],
   "source": [
    "faceoff_url = f'https://api.nhle.com/stats/rest/en/skater/faceoffwins?isAggregate=false&isGame=false&sort=%5B%7B%22property%22:%22totalFaceoffWins%22,%22direction%22:%22DESC%22%7D,%7B%22property%22:%22playerId%22,%22direction%22:%22ASC%22%7D%5D&start=0&limit=100&factCayenneExp=gamesPlayed%3E=1&cayenneExp=gameTypeId=2%20and%20seasonId%3C=20222023%20and%20seasonId%3E=20182019'\n",
    "faceoff_dict = {}\n",
    "resp = requests.get(faceoff_url)\n",
    "resp.raise_for_status()\n",
    "json_data = resp.json()\n",
    "total_events = json_data['total']\n",
    "\n",
    "for start_index in range(0,total_events+1,50):\n",
    "    faceoff_url = f'https://api.nhle.com/stats/rest/en/skater/faceoffwins?isAggregate=false&isGame=false&sort=%5B%7B%22property%22:%22totalFaceoffWins%22,%22direction%22:%22DESC%22%7D,%7B%22property%22:%22faceoffWinPct%22,%22direction%22:%22DESC%22%7D,%7B%22property%22:%22playerId%22,%22direction%22:%22ASC%22%7D%5D&start={start_index}&limit=100&factCayenneExp=gamesPlayed%3E=0&cayenneExp=gameTypeId=2%20and%20seasonId%3C=20222023%20and%20seasonId%3E=20182019'\n",
    "    try:\n",
    "        resp = requests.get(faceoff_url)\n",
    "        resp.raise_for_status()\n",
    "        json_data = resp.json()\n",
    "    except requests.exceptions.HTTPError as e:\n",
    "        print(f\"HTTP error occurred: {e}\")\n",
    "    except Exception as e:\n",
    "        print(f\"An unexpected error occurred: {e}\")\n",
    "\n",
    "    for player in json_data['data']:\n",
    "        player_id = str(player['playerId'])\n",
    "        season = str(player['seasonId'])\n",
    "        faceoffDifferential  = player['totalFaceoffWins'] - player['totalFaceoffLosses']\n",
    "        faceoffTotal = player['totalFaceoffs']\n",
    "        faceoff_dict[(player_id, season)] = [faceoffDifferential,faceoffTotal]\n",
    "\n",
    "toi_xg_df['faceoff_differential'] = toi_xg_df.apply(lambda row: faceoff_dict[(row['id'], row['season'])][0], axis=1)\n",
    "toi_xg_df['faceoff_total'] = toi_xg_df.apply(lambda row: faceoff_dict[(row['id'], row['season'])][1], axis=1)"
   ]
  },
  {
   "cell_type": "code",
   "execution_count": 153,
   "metadata": {},
   "outputs": [],
   "source": [
    "penalties_url = f'https://api.nhle.com/stats/rest/en/skater/penalties?isAggregate=false&isGame=false&sort=%5B%7B%22property%22:%22lastName%22,%22direction%22:%22ASC_CI%22%7D,%7B%22property%22:%22skaterFullName%22,%22direction%22:%22ASC_CI%22%7D,%7B%22property%22:%22playerId%22,%22direction%22:%22ASC%22%7D%5D&start=0&limit=100&factCayenneExp=gamesPlayed%3E=1&cayenneExp=gameTypeId=2%20and%20seasonId%3C=20222023%20and%20seasonId%3E=20182019'\n",
    "penalties_dict = {}\n",
    "resp = requests.get(penalties_url)\n",
    "resp.raise_for_status()\n",
    "json_data = resp.json()\n",
    "total_events = json_data['total']\n",
    "\n",
    "for start_index in range(0,total_events+1,50):\n",
    "    penalties_url = f'https://api.nhle.com/stats/rest/en/skater/penalties?isAggregate=false&isGame=false&sort=%5B%7B%22property%22:%22lastName%22,%22direction%22:%22ASC_CI%22%7D,%7B%22property%22:%22skaterFullName%22,%22direction%22:%22ASC_CI%22%7D,%7B%22property%22:%22playerId%22,%22direction%22:%22ASC%22%7D%5D&start={start_index}&limit=100&factCayenneExp=gamesPlayed%3E=1&cayenneExp=gameTypeId=2%20and%20seasonId%3C=20222023%20and%20seasonId%3E=20182019'\n",
    "    try:\n",
    "        resp = requests.get(penalties_url)\n",
    "        resp.raise_for_status()\n",
    "        json_data = resp.json()\n",
    "    except requests.exceptions.HTTPError as e:\n",
    "        print(f\"HTTP error occurred: {e}\")\n",
    "    except Exception as e:\n",
    "        print(f\"An unexpected error occurred: {e}\")\n",
    "\n",
    "    for player in json_data['data']:\n",
    "        player_id = str(player['playerId'])\n",
    "        season = str(player['seasonId'])\n",
    "        penaliesTaken  = player['penalties']\n",
    "        penaliesDrawn = player['penaltiesDrawn']\n",
    "        penalties_dict[(player_id, season)] = [penaliesTaken,penaliesDrawn]\n",
    "\n",
    "toi_xg_df['penalties_taken'] = toi_xg_df.apply(lambda row: penalties_dict[(row['id'], row['season'])][0], axis=1)\n",
    "toi_xg_df['penalties_drawn'] = toi_xg_df.apply(lambda row: penalties_dict[(row['id'], row['season'])][1], axis=1)"
   ]
  },
  {
   "cell_type": "code",
   "execution_count": 154,
   "metadata": {},
   "outputs": [],
   "source": [
    "goals_against_url = f'https://api.nhle.com/stats/rest/en/skater/goalsForAgainst?isAggregate=false&isGame=false&sort=%5B%7B%22property%22:%22seasonId%22,%22direction%22:%22DESC%22%7D,%7B%22property%22:%22playerId%22,%22direction%22:%22ASC%22%7D%5D&start=0&limit=100&factCayenneExp=gamesPlayed%3E=1&cayenneExp=gameTypeId=2%20and%20seasonId%3C=20222023%20and%20seasonId%3E=20182019'\n",
    "goals_against_dict = {}\n",
    "resp = requests.get(penalties_url)\n",
    "resp.raise_for_status()\n",
    "json_data = resp.json()\n",
    "total_events = json_data['total']\n",
    "\n",
    "for start_index in range(0,total_events+1,50):\n",
    "    goals_against_url = f'https://api.nhle.com/stats/rest/en/skater/goalsForAgainst?isAggregate=false&isGame=false&sort=%5B%7B%22property%22:%22seasonId%22,%22direction%22:%22DESC%22%7D,%7B%22property%22:%22playerId%22,%22direction%22:%22ASC%22%7D%5D&start={start_index}&limit=100&factCayenneExp=gamesPlayed%3E=1&cayenneExp=gameTypeId=2%20and%20seasonId%3C=20222023%20and%20seasonId%3E=20182019'\n",
    "    try:\n",
    "        resp = requests.get(goals_against_url)\n",
    "        resp.raise_for_status()\n",
    "        json_data = resp.json()\n",
    "    except requests.exceptions.HTTPError as e:\n",
    "        print(f\"HTTP error occurred: {e}\")\n",
    "    except Exception as e:\n",
    "        print(f\"An unexpected error occurred: {e}\")\n",
    "\n",
    "    for player in json_data['data']:\n",
    "        player_id = str(player['playerId'])\n",
    "        season = str(player['seasonId'])\n",
    "        evenStrengthGoalsAgainst  = player['evenStrengthGoalsAgainst']\n",
    "        goals_against_dict[(player_id, season)] = [evenStrengthGoalsAgainst]\n",
    "\n",
    "toi_xg_df['ev_goals_against'] = toi_xg_df.apply(lambda row: goals_against_dict[(row['id'], row['season'])][0], axis=1)\n"
   ]
  },
  {
   "cell_type": "code",
   "execution_count": 157,
   "metadata": {},
   "outputs": [],
   "source": [
    "# Define column prefixes and corresponding time columns\n",
    "columns = [\n",
    "    ('EV', 'evenTimeOnIceMin'),\n",
    "    ('PP', 'powerPlayTimeOnIceMin'),\n",
    "    ('SH', 'shortHandedTimeOnIceMin'),\n",
    "    ('ALL', 'timeOnIceMin')\n",
    "]\n",
    "# Iterate through column prefixes and time columns to calculate rates and percentiles\n",
    "for prefix, time_column in columns:\n",
    "    toi_xg_df[f'{prefix}_ixG_rates'] = toi_xg_df.apply(lambda row: row[f'{prefix}_ixG'] / row[time_column] if row[time_column] != 0 else 0.0, axis=1)\n",
    "    toi_xg_df[f'{prefix}_xGF_rates'] = toi_xg_df.apply(lambda row: row[f'{prefix}_xGF'] / row[time_column] if row[time_column] != 0 else 0.0, axis=1)\n",
    "    toi_xg_df[f'{prefix}_xGA_rates'] = toi_xg_df.apply(lambda row: row[f'{prefix}_xGA'] / row[time_column] if row[time_column] != 0 else 0.0, axis=1)\n",
    "\n",
    "toi_xg_df[f'penalties_taken_rates'] = toi_xg_df.apply(lambda row: row[f'penalties_taken'] / row['timeOnIceMin'] if row['timeOnIceMin'] != 0 else 0.0, axis=1)\n",
    "toi_xg_df[f'penalties_drawn_rates'] = toi_xg_df.apply(lambda row: row[f'penalties_drawn'] / row['timeOnIceMin'] if row['timeOnIceMin'] != 0 else 0.0, axis=1)\n",
    "toi_xg_df[f'goal_rates'] = toi_xg_df.apply(lambda row: row[f'goals'] / row['timeOnIceMin'] if row['timeOnIceMin'] != 0 else 0.0, axis=1)\n",
    "\n",
    "toi_xg_df[f'ev_goals_against_rate'] = toi_xg_df.apply(lambda row: row[f'ev_goals_against'] / row['evenTimeOnIceMin'] if row['evenTimeOnIceMin'] != 0 else 0.0, axis=1)\n",
    "\n",
    "# Calculate season-wise percentiles\n",
    "toi_xg_df['faceoff_differential_percentile'] = toi_xg_df.apply(lambda row: stats.percentileofscore(toi_xg_df.loc[(toi_xg_df['faceoff_total'] > 50) & (toi_xg_df['season'] == row['season']), 'faceoff_differential'], row['faceoff_differential'], kind='rank'), axis=1)\n",
    "toi_xg_df['goals_above_expected_percentile'] = toi_xg_df.apply(lambda row: stats.percentileofscore(toi_xg_df.loc[(toi_xg_df['timeOnIceMin'] > 240) & (toi_xg_df['season'] == row['season']), 'goals_above_expected'], row['goals_above_expected'], kind='rank'), axis=1)\n",
    "# toi_xg_df['pim_percentile'] = toi_xg_df.apply(lambda row: stats.percentileofscore(-toi_xg_df.loc[(toi_xg_df['timeOnIceMin'] > 400) & (toi_xg_df['season'] == row['season']), 'pim'], -row['pim'], kind='rank'), axis=1)\n",
    "toi_xg_df['penalties_taken_percentile'] = toi_xg_df.apply(lambda row: stats.percentileofscore(-toi_xg_df.loc[(toi_xg_df['timeOnIceMin'] > 500) & (toi_xg_df['season'] == row['season']), 'penalties_taken_rates'], -row['penalties_taken_rates'], kind='rank'), axis=1)\n",
    "toi_xg_df['penalties_drawn_percentile'] = toi_xg_df.apply(lambda row: stats.percentileofscore(toi_xg_df.loc[(toi_xg_df['timeOnIceMin'] > 240) & (toi_xg_df['season'] == row['season']), 'penalties_drawn_rates'], row['penalties_drawn_rates'], kind='rank'), axis=1)\n",
    "toi_xg_df['goal_percentile'] = toi_xg_df.apply(lambda row: stats.percentileofscore(toi_xg_df.loc[(toi_xg_df['timeOnIceMin'] > 240) & (toi_xg_df['season'] == row['season']), 'goal_rates'], row['goal_rates'], kind='rank'), axis=1)\n",
    "\n",
    "toi_xg_df['ev_goals_against_percentile'] = toi_xg_df.apply(lambda row: stats.percentileofscore(-toi_xg_df.loc[(toi_xg_df['evenTimeOnIceMin'] > 400) & (toi_xg_df['season'] == row['season']), 'ev_goals_against_rate'], -row['ev_goals_against_rate'], kind='rank'), axis=1)\n",
    "\n",
    "\n",
    "\n",
    "for prefix, time_column in columns:\n",
    "        toi_xg_df[f'{prefix}_TOI_percentile'] = toi_xg_df.apply(lambda row: stats.percentileofscore(toi_xg_df.loc[(toi_xg_df['timeOnIceMin'] > 240) & (toi_xg_df['season'] == row['season']), time_column], row[time_column], kind='rank'), axis=1)\n",
    "        toi_xg_df[f'{prefix}_ixG_percentile'] = toi_xg_df.apply(lambda row: stats.percentileofscore(toi_xg_df.loc[(toi_xg_df['timeOnIceMin'] > 240) & (toi_xg_df['season'] == row['season']), f'{prefix}_ixG_rates'], row[f'{prefix}_ixG_rates'], kind='rank'), axis=1)\n",
    "        toi_xg_df[f'{prefix}_xGF_percentile'] = toi_xg_df.apply(lambda row: stats.percentileofscore(toi_xg_df.loc[(toi_xg_df['timeOnIceMin'] > 240) & (toi_xg_df['season'] == row['season']), f'{prefix}_xGF_rates'], row[f'{prefix}_xGF_rates'], kind='rank'), axis=1)\n",
    "        toi_xg_df[f'{prefix}_xGA_percentile'] = toi_xg_df.apply(lambda row: stats.percentileofscore(-toi_xg_df.loc[(toi_xg_df['timeOnIceMin'] > 240) & (toi_xg_df['season'] == row['season']), f'{prefix}_xGA_rates'], -row[f'{prefix}_xGA_rates'], kind='rank'), axis=1)\n"
   ]
  },
  {
   "cell_type": "code",
   "execution_count": 165,
   "metadata": {},
   "outputs": [],
   "source": [
    "conn = engine.connect()\n",
    "toi_xg_df.to_sql('percentiles',if_exists='replace', con=conn, index=False)\n",
    "conn.close()"
   ]
  },
  {
   "cell_type": "code",
   "execution_count": null,
   "metadata": {},
   "outputs": [],
   "source": []
  },
  {
   "cell_type": "markdown",
   "metadata": {},
   "source": [
    "# Goalie Percentiles"
   ]
  },
  {
   "cell_type": "markdown",
   "metadata": {},
   "source": [
    "### List\n",
    "- High Danger Sv%\n",
    "- Med Danger Sv%\n",
    "- Low Danger Sv%\n",
    "- SH Sv%\n",
    "- EV Sv%\n",
    "- GAA\n",
    "- TOI\n",
    "- xG Against \n",
    "- GSAx\n",
    "- Rebounds"
   ]
  },
  {
   "cell_type": "markdown",
   "metadata": {},
   "source": [
    "Workload: TOI, High/Med/Low Danger Chances Against\n",
    "Goalkeeping:  Sv% of all types\n",
    "Team stats: GAA, Shutouts, Win/Loss\n",
    "Advanced: xG stuff\n",
    "\n",
    "- TOI\n",
    "- High CA\n",
    "- Med  CA\n",
    "- Low CA\n",
    "- EV Sv%\n",
    "- SH Sv%\n",
    "- High Sv%\n",
    "- Med Sv%\n",
    "- Low Sv%\n",
    "- GAA\n",
    "- Shutouts\n",
    "- Win\n",
    "- Loss\n",
    "- xGA x\n",
    "- GSAx x"
   ]
  },
  {
   "cell_type": "code",
   "execution_count": 97,
   "metadata": {},
   "outputs": [],
   "source": [
    "import pandas as pd\n",
    "import sqlite3 as sql\n",
    "import numpy as np\n",
    "\n",
    "db_file_path = 'C:/Users/charl/OneDrive/Desktop/Projects/HockeySavant/hockeysavant_app/hockeysavant.db'\n",
    "conn = sql.connect(db_file_path)\n",
    "play_by_play = pd.read_csv('C:/Users/charl/OneDrive/Desktop/Projects/HockeySavant/scripts/play_by_play.csv')\n",
    "xg = pd.read_sql(\"SELECT * FROM expected_goals\", con=conn)\n",
    "\n",
    "play_by_play = play_by_play.merge(xg, how='inner', on=['gameId','playId'])"
   ]
  },
  {
   "cell_type": "code",
   "execution_count": 98,
   "metadata": {},
   "outputs": [
    {
     "data": {
      "text/html": [
       "<div>\n",
       "<style scoped>\n",
       "    .dataframe tbody tr th:only-of-type {\n",
       "        vertical-align: middle;\n",
       "    }\n",
       "\n",
       "    .dataframe tbody tr th {\n",
       "        vertical-align: top;\n",
       "    }\n",
       "\n",
       "    .dataframe thead th {\n",
       "        text-align: right;\n",
       "    }\n",
       "</style>\n",
       "<table border=\"1\" class=\"dataframe\">\n",
       "  <thead>\n",
       "    <tr style=\"text-align: right;\">\n",
       "      <th></th>\n",
       "      <th>season</th>\n",
       "      <th>goalie</th>\n",
       "      <th>xGA</th>\n",
       "      <th>isGoal</th>\n",
       "      <th>GSAx</th>\n",
       "    </tr>\n",
       "  </thead>\n",
       "  <tbody>\n",
       "    <tr>\n",
       "      <th>320</th>\n",
       "      <td>20212022</td>\n",
       "      <td>8478048.0</td>\n",
       "      <td>123.531467</td>\n",
       "      <td>104.0</td>\n",
       "      <td>19.531467</td>\n",
       "    </tr>\n",
       "    <tr>\n",
       "      <th>310</th>\n",
       "      <td>20222023</td>\n",
       "      <td>8478009.0</td>\n",
       "      <td>154.216318</td>\n",
       "      <td>136.0</td>\n",
       "      <td>18.216318</td>\n",
       "    </tr>\n",
       "    <tr>\n",
       "      <th>250</th>\n",
       "      <td>20222023</td>\n",
       "      <td>8476999.0</td>\n",
       "      <td>106.996553</td>\n",
       "      <td>91.0</td>\n",
       "      <td>15.996553</td>\n",
       "    </tr>\n",
       "    <tr>\n",
       "      <th>274</th>\n",
       "      <td>20222023</td>\n",
       "      <td>8477424.0</td>\n",
       "      <td>178.449341</td>\n",
       "      <td>166.0</td>\n",
       "      <td>12.449341</td>\n",
       "    </tr>\n",
       "    <tr>\n",
       "      <th>70</th>\n",
       "      <td>20182019</td>\n",
       "      <td>8471750.0</td>\n",
       "      <td>97.290509</td>\n",
       "      <td>85.0</td>\n",
       "      <td>12.290509</td>\n",
       "    </tr>\n",
       "    <tr>\n",
       "      <th>...</th>\n",
       "      <td>...</td>\n",
       "      <td>...</td>\n",
       "      <td>...</td>\n",
       "      <td>...</td>\n",
       "      <td>...</td>\n",
       "    </tr>\n",
       "    <tr>\n",
       "      <th>307</th>\n",
       "      <td>20222023</td>\n",
       "      <td>8478007.0</td>\n",
       "      <td>69.768908</td>\n",
       "      <td>108.0</td>\n",
       "      <td>-38.231092</td>\n",
       "    </tr>\n",
       "    <tr>\n",
       "      <th>313</th>\n",
       "      <td>20222023</td>\n",
       "      <td>8478024.0</td>\n",
       "      <td>122.196047</td>\n",
       "      <td>161.0</td>\n",
       "      <td>-38.803953</td>\n",
       "    </tr>\n",
       "    <tr>\n",
       "      <th>345</th>\n",
       "      <td>20212022</td>\n",
       "      <td>8478872.0</td>\n",
       "      <td>129.127342</td>\n",
       "      <td>168.0</td>\n",
       "      <td>-38.872658</td>\n",
       "    </tr>\n",
       "    <tr>\n",
       "      <th>166</th>\n",
       "      <td>20212022</td>\n",
       "      <td>8475831.0</td>\n",
       "      <td>119.416282</td>\n",
       "      <td>160.0</td>\n",
       "      <td>-40.583718</td>\n",
       "    </tr>\n",
       "    <tr>\n",
       "      <th>65</th>\n",
       "      <td>20182019</td>\n",
       "      <td>8471734.0</td>\n",
       "      <td>103.212982</td>\n",
       "      <td>145.0</td>\n",
       "      <td>-41.787018</td>\n",
       "    </tr>\n",
       "  </tbody>\n",
       "</table>\n",
       "<p>503 rows × 5 columns</p>\n",
       "</div>"
      ],
      "text/plain": [
       "       season     goalie         xGA  isGoal       GSAx\n",
       "320  20212022  8478048.0  123.531467   104.0  19.531467\n",
       "310  20222023  8478009.0  154.216318   136.0  18.216318\n",
       "250  20222023  8476999.0  106.996553    91.0  15.996553\n",
       "274  20222023  8477424.0  178.449341   166.0  12.449341\n",
       "70   20182019  8471750.0   97.290509    85.0  12.290509\n",
       "..        ...        ...         ...     ...        ...\n",
       "307  20222023  8478007.0   69.768908   108.0 -38.231092\n",
       "313  20222023  8478024.0  122.196047   161.0 -38.803953\n",
       "345  20212022  8478872.0  129.127342   168.0 -38.872658\n",
       "166  20212022  8475831.0  119.416282   160.0 -40.583718\n",
       "65   20182019  8471734.0  103.212982   145.0 -41.787018\n",
       "\n",
       "[503 rows x 5 columns]"
      ]
     },
     "execution_count": 98,
     "metadata": {},
     "output_type": "execute_result"
    }
   ],
   "source": [
    "# Create columns 'homeSave' and 'isGoal'\n",
    "play_by_play['homeSave'] = np.where(play_by_play['eventTeam'] != play_by_play['homeTeam'], 1, 0)\n",
    "play_by_play['isGoal'] = np.where(play_by_play['eventType'] == \"Goal\", 1, 0)\n",
    "play_by_play['isHome'] = np.where(play_by_play['homeTeam'] == play_by_play['eventTeam'], 1, 0)\n",
    "\n",
    "# Group data\n",
    "home_goalie_saves = play_by_play[play_by_play['homeSave'] == 1]\n",
    "away_goalie_saves = play_by_play[play_by_play['homeSave'] == 0]\n",
    "\n",
    "# Define a function to aggregate data\n",
    "def aggregate_data(saves, is_home_saves=True):\n",
    "    group_by_column = 'homeGoalie' if is_home_saves else 'awayGoalie'\n",
    "    aggregation = saves.groupby(by=[group_by_column, 'season']).agg({'xG': 'sum', 'isGoal': 'sum'}).reset_index()\n",
    "    aggregation['GSAx'] = aggregation['xG'] - aggregation['isGoal']\n",
    "    return aggregation\n",
    "\n",
    "\n",
    "home_save_group = aggregate_data(home_goalie_saves, is_home_saves=True)\n",
    "away_save_group = aggregate_data(away_goalie_saves, is_home_saves=False)\n",
    "\n",
    "# Merge DataFrames\n",
    "all_saves_group = home_save_group.merge(away_save_group, how='outer', left_on=['homeGoalie','season'], right_on=['awayGoalie','season'])\n",
    "\n",
    "# Fill NaN values\n",
    "columns_to_fill = ['xG_x', 'isGoal_x', 'GSAx_x', 'xG_y', 'isGoal_y', 'GSAx_y']\n",
    "all_saves_group[columns_to_fill] = all_saves_group[columns_to_fill].fillna(0)\n",
    "\n",
    "# Combine 'homeGoalie' and 'awayGoalie' into 'goalie' column\n",
    "all_saves_group['goalie'] = np.where(all_saves_group['homeGoalie'].isna(), all_saves_group['awayGoalie'], all_saves_group['homeGoalie'])\n",
    "\n",
    "# Calculate 'xGA' (opponent goals against) and drop unnecessary columns\n",
    "all_saves_group['xGA'] = all_saves_group['xG_x'] + all_saves_group['xG_y']\n",
    "all_saves_group['isGoal'] = all_saves_group['isGoal_x'] + all_saves_group['isGoal_y']\n",
    "all_saves_group['GSAx'] = all_saves_group['GSAx_x'] + all_saves_group['GSAx_y']\n",
    "all_saves_group = all_saves_group.drop(['xG_x', 'isGoal_x', 'GSAx_x', 'xG_y', 'isGoal_y', 'GSAx_y', 'homeGoalie', 'awayGoalie'], axis=1)\n",
    "\n",
    "# Rename 'xG' to 'xGA'\n",
    "all_saves_group = all_saves_group.rename(columns={'xG': 'xGA'})\n",
    "\n",
    "# Display the final DataFrame\n",
    "all_saves_group.sort_values(by='GSAx', ascending=False)"
   ]
  },
  {
   "cell_type": "code",
   "execution_count": 125,
   "metadata": {},
   "outputs": [],
   "source": [
    "# Dict to shift x,y coords to same side for all teams\n",
    "coords_shift_dict = {\n",
    "    'NSH': 1,\n",
    "    'CBJ': 1,\n",
    "    'SJS': 1,\n",
    "    'WSH': -1,\n",
    "    'NYR': -1,\n",
    "    'LAK': -1,\n",
    "    'CAR': -1,\n",
    "    'MTL': -1,\n",
    "    'COL': -1,\n",
    "    'BUF': 1,\n",
    "    'ANA': 1,\n",
    "    'NYI': 1,\n",
    "    'EDM': 1,\n",
    "    'PIT': 1,\n",
    "    'PHI': -1,\n",
    "    'TOR': -1,\n",
    "    'MIN': -1,\n",
    "    'CGY': -1,\n",
    "    'VGK': -1,\n",
    "    'DET': -1,\n",
    "    'DAL': -1,\n",
    "    'OTT': 1,\n",
    "    'WPG': -1,\n",
    "    'BOS': 1,\n",
    "    'NJD': 1,\n",
    "    'STL': 1,\n",
    "    'SEA': 1,\n",
    "    'FLA': -1,\n",
    "    'CHI': -1,\n",
    "    'VAN': -1,\n",
    "    'TBL': 1,\n",
    "    'ARI': 1\n",
    "}\n",
    "play_by_play['flippedCoordsX'] = play_by_play.apply(lambda row: row['coordsX'] * coords_shift_dict[row['homeTeam']], axis=1)\n",
    "play_by_play['flippedCoordsY'] = play_by_play.apply(lambda row: row['coordsY'] * coords_shift_dict[row['homeTeam']], axis=1)\n",
    "\n",
    "# Fix the outdoor game\n",
    "play_by_play.loc[play_by_play['gameId'] == 2022020595, 'flippedCoordsX'] *= -1\n",
    "play_by_play.loc[play_by_play['gameId'] == 2022020595, 'flippedCoordsY'] *= -1\n",
    "\n",
    "play_by_play.loc[play_by_play['gameId'] == 2021020834, 'flippedCoordsX'] *= -1\n",
    "play_by_play.loc[play_by_play['gameId'] == 2021020834, 'flippedCoordsY'] *= -1\n",
    "\n",
    "play_by_play.loc[play_by_play['gameId'] == 2020020290, 'flippedCoordsX'] *= -1\n",
    "play_by_play.loc[play_by_play['gameId'] == 2020020290, 'flippedCoordsY'] *= -1\n",
    "\n",
    "play_by_play.loc[play_by_play['gameId'] == 2018020953, 'flippedCoordsX'] *= -1\n",
    "play_by_play.loc[play_by_play['gameId'] == 2018020953, 'flippedCoordsY'] *= -1\n",
    "# # Fix global series game\n",
    "play_by_play.loc[play_by_play['gameId'] == 2022020001, 'flippedCoordsX'] *= -1\n",
    "play_by_play.loc[play_by_play['gameId'] == 2022020001, 'flippedCoordsY'] *= -1\n",
    "\n",
    "play_by_play.loc[play_by_play['gameId'] == 2018020192, 'flippedCoordsX'] *= -1\n",
    "play_by_play.loc[play_by_play['gameId'] == 2018020192, 'flippedCoordsY'] *= -1\n",
    "\n",
    "play_by_play.loc[((play_by_play['gameId'] == 2018020401)), 'flippedCoordsX'] *= -1\n",
    "play_by_play.loc[((play_by_play['gameId'] == 2018020401)), 'flippedCoordsY'] *= -1\n",
    "\n",
    "play_by_play = play_by_play[play_by_play['gameId'] != 2018020555]\n",
    "\n",
    "flip_coords_dict = {\n",
    "    (1, 1): 1,\n",
    "    (1, 2): -1,\n",
    "    (1, 3): 1,\n",
    "    (0, 1): -1,\n",
    "    (0, 2): 1,\n",
    "    (0, 3): -1,\n",
    "}\n",
    "\n",
    "play_by_play['flippedCoordsX'] = play_by_play.apply(lambda row: row['flippedCoordsX'] * flip_coords_dict[(row['isHome'],row['period_x'])], axis=1)\n",
    "play_by_play['flippedCoordsY'] = play_by_play.apply(lambda row: row['flippedCoordsY'] * flip_coords_dict[(row['isHome'],row['period_x'])], axis=1)\n"
   ]
  },
  {
   "cell_type": "code",
   "execution_count": 127,
   "metadata": {},
   "outputs": [
    {
     "data": {
      "text/html": [
       "<div>\n",
       "<style scoped>\n",
       "    .dataframe tbody tr th:only-of-type {\n",
       "        vertical-align: middle;\n",
       "    }\n",
       "\n",
       "    .dataframe tbody tr th {\n",
       "        vertical-align: top;\n",
       "    }\n",
       "\n",
       "    .dataframe thead th {\n",
       "        text-align: right;\n",
       "    }\n",
       "</style>\n",
       "<table border=\"1\" class=\"dataframe\">\n",
       "  <thead>\n",
       "    <tr style=\"text-align: right;\">\n",
       "      <th></th>\n",
       "      <th>gameId</th>\n",
       "      <th>description</th>\n",
       "    </tr>\n",
       "  </thead>\n",
       "  <tbody>\n",
       "    <tr>\n",
       "      <th>60798</th>\n",
       "      <td>2018020712</td>\n",
       "      <td>NYR #89 BUCHNEVICH(9), Wrist, Def. Zone, 172 f...</td>\n",
       "    </tr>\n",
       "    <tr>\n",
       "      <th>81400</th>\n",
       "      <td>2018020953</td>\n",
       "      <td>PHI #25 VAN RIEMSDYK(16), Wrist, Def. Zone, 17...</td>\n",
       "    </tr>\n",
       "    <tr>\n",
       "      <th>129529</th>\n",
       "      <td>2019020249</td>\n",
       "      <td>BUF #23 REINHART(7), Wrist, Off. Zone, 29 ft.A...</td>\n",
       "    </tr>\n",
       "    <tr>\n",
       "      <th>227912</th>\n",
       "      <td>2020020369</td>\n",
       "      <td>MTL #94 PERRY(3), Tip-In, Off. Zone, 7 ft.Assi...</td>\n",
       "    </tr>\n",
       "    <tr>\n",
       "      <th>310513</th>\n",
       "      <td>2021020483</td>\n",
       "      <td>NYI #20 BELLOWS(2), Wrist, Off. Zone, 40 ft.As...</td>\n",
       "    </tr>\n",
       "    <tr>\n",
       "      <th>350021</th>\n",
       "      <td>2021020942</td>\n",
       "      <td>BUF #19 KREBS(6), Wrist, Off. Zone, 13 ft.Assi...</td>\n",
       "    </tr>\n",
       "  </tbody>\n",
       "</table>\n",
       "</div>"
      ],
      "text/plain": [
       "            gameId                                        description\n",
       "60798   2018020712  NYR #89 BUCHNEVICH(9), Wrist, Def. Zone, 172 f...\n",
       "81400   2018020953  PHI #25 VAN RIEMSDYK(16), Wrist, Def. Zone, 17...\n",
       "129529  2019020249  BUF #23 REINHART(7), Wrist, Off. Zone, 29 ft.A...\n",
       "227912  2020020369  MTL #94 PERRY(3), Tip-In, Off. Zone, 7 ft.Assi...\n",
       "310513  2021020483  NYI #20 BELLOWS(2), Wrist, Off. Zone, 40 ft.As...\n",
       "350021  2021020942  BUF #19 KREBS(6), Wrist, Off. Zone, 13 ft.Assi..."
      ]
     },
     "execution_count": 127,
     "metadata": {},
     "output_type": "execute_result"
    }
   ],
   "source": [
    "# play_by_play[(play_by_play['isHome'] ==1) & (play_by_play['period_x'] ==2) & (play_by_play['isGoal'] ==1)].plot(x='flippedCoordsX', y='flippedCoordsY', kind='scatter')\n",
    "play_by_play[(play_by_play['isHome'] ==1) & (play_by_play['period_x'] ==3) & (play_by_play['isGoal'] ==1) & (play_by_play['flippedCoordsX']  < -50)][['gameId','description']]"
   ]
  },
  {
   "cell_type": "code",
   "execution_count": 25,
   "metadata": {},
   "outputs": [],
   "source": [
    "goalX = 88\n",
    "goalY = 0\n",
    "play_by_play['angleToGoal'] = play_by_play.apply(lambda row: np.degrees(np.arctan2((row['flippedCoordsY'] - goalY), (row['flippedCoordsX'] - goalX)))-90,axis=1)\n",
    "play_by_play['angleToGoal'] = np.where(play_by_play['angleToGoal'] < -90, np.abs(play_by_play['angleToGoal'])-180, play_by_play['angleToGoal'])"
   ]
  },
  {
   "cell_type": "code",
   "execution_count": 67,
   "metadata": {},
   "outputs": [],
   "source": [
    "play_by_play['highDangerChance'] = np.where(((play_by_play['flippedCoordsX'] <= 100-13.1) & (play_by_play['flippedCoordsX'] >= 100-34.1) & (play_by_play['flippedCoordsY'] <= 6) & (play_by_play['flippedCoordsY'] >= -6)), 1, 0)\n",
    "play_by_play['medDangerChance'] = np.where(((play_by_play['highDangerChance'] == 0) & (play_by_play['angleToGoal'] > 30) & (play_by_play['flippedCoordsX'] >= 13.1) & (play_by_play['flippedCoordsX'] >= 50.25) & (play_by_play['flippedCoordsY'] <= 22.0) & (play_by_play['flippedCoordsY'] >= -22)), 1, 0)\n",
    "play_by_play['lowDangerChance'] = np.where(((play_by_play['highDangerChance'] == 0) & (play_by_play['medDangerChance'] == 0)), 1, 0)"
   ]
  },
  {
   "cell_type": "code",
   "execution_count": 68,
   "metadata": {},
   "outputs": [
    {
     "data": {
      "text/plain": [
       "highDangerChance\n",
       "0    400252\n",
       "1     93908\n",
       "Name: count, dtype: int64"
      ]
     },
     "execution_count": 68,
     "metadata": {},
     "output_type": "execute_result"
    }
   ],
   "source": [
    "play_by_play['highDangerChance'].value_counts()"
   ]
  },
  {
   "cell_type": "code",
   "execution_count": 69,
   "metadata": {},
   "outputs": [
    {
     "data": {
      "text/plain": [
       "medDangerChance\n",
       "0    350852\n",
       "1    143308\n",
       "Name: count, dtype: int64"
      ]
     },
     "execution_count": 69,
     "metadata": {},
     "output_type": "execute_result"
    }
   ],
   "source": [
    "play_by_play['medDangerChance'].value_counts()"
   ]
  },
  {
   "cell_type": "code",
   "execution_count": 70,
   "metadata": {},
   "outputs": [
    {
     "data": {
      "text/plain": [
       "lowDangerChance\n",
       "1    256944\n",
       "0    237216\n",
       "Name: count, dtype: int64"
      ]
     },
     "execution_count": 70,
     "metadata": {},
     "output_type": "execute_result"
    }
   ],
   "source": [
    "play_by_play['lowDangerChance'].value_counts()"
   ]
  },
  {
   "cell_type": "code",
   "execution_count": 72,
   "metadata": {},
   "outputs": [
    {
     "data": {
      "image/png": "[encoded data removed]",
      "text/plain": [
       "<Figure size 640x480 with 2 Axes>"
      ]
     },
     "metadata": {},
     "output_type": "display_data"
    }
   ],
   "source": [
    "from matplotlib.colors import ListedColormap\n",
    "\n",
    "cmap = ListedColormap(['red', 'blue'])\n",
    "\n",
    "# Create a scatter plot with 'highDangerChance' mapped to colors\n",
    "sc = play_by_play.plot(x='coordsX', y='coordsY', kind='scatter',\n",
    "                       c=play_by_play['highDangerChance'], cmap=cmap)"
   ]
  },
  {
   "cell_type": "code",
   "execution_count": null,
   "metadata": {},
   "outputs": [],
   "source": []
  }
 ],
 "metadata": {
  "kernelspec": {
   "display_name": "env",
   "language": "python",
   "name": "python3"
  },
  "language_info": {
   "codemirror_mode": {
    "name": "ipython",
    "version": 3
   },
   "file_extension": ".py",
   "mimetype": "text/x-python",
   "name": "python",
   "nbconvert_exporter": "python",
   "pygments_lexer": "ipython3",
   "version": "3.10.11"
  },
  "orig_nbformat": 4,
  "vscode": {
   "interpreter": {
    "hash": "5681a5ff8fa8524066465b51ed71974b9a9d17fac236181ec822a345559c4021"
   }
  }
 },
 "nbformat": 4,
 "nbformat_minor": 2
}
